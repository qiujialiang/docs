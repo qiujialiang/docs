{
 "cells": [
  {
   "cell_type": "code",
   "id": "initial_id",
   "metadata": {
    "collapsed": true,
    "ExecuteTime": {
     "end_time": "2024-11-02T10:34:16.561778Z",
     "start_time": "2024-11-02T10:34:16.554215Z"
    }
   },
   "source": [
    "import numpy as np #导包\n",
    "import matplotlib.pyplot as plt\n",
    "import heapq"
   ],
   "outputs": [],
   "execution_count": 5
  },
  {
   "metadata": {
    "ExecuteTime": {
     "end_time": "2024-11-02T10:35:51.905110Z",
     "start_time": "2024-11-02T10:35:51.892238Z"
    }
   },
   "cell_type": "code",
   "source": [
    "def dijkstra_path(G, start, end):\n",
    "    # 初始化距离和前驱节点字典\n",
    "    distances = {node: float('inf') for node in G}\n",
    "    previous_nodes = {node: None for node in G}\n",
    "    distances[start] = 0\n",
    "    \n",
    "    # 优先队列，存储 (距离, 节点) 对\n",
    "    priority_queue = [(0, start)]\n",
    "    \n",
    "    while priority_queue:\n",
    "        # 取出当前距离最小的节点\n",
    "        current_distance, current_node = heapq.heappop(priority_queue)\n",
    "        \n",
    "        # 如果到达终点，提前结束\n",
    "        if current_node == end:\n",
    "            break\n",
    "        \n",
    "        # 遍历当前节点的所有邻居\n",
    "        for neighbor, weight in G[current_node].items():\n",
    "            distance = current_distance + weight\n",
    "            \n",
    "            # 如果找到更短的路径\n",
    "            if distance < distances[neighbor]:\n",
    "                distances[neighbor] = distance\n",
    "                previous_nodes[neighbor] = current_node\n",
    "                heapq.heappush(priority_queue, (distance, neighbor))\n",
    "    \n",
    "    # 构建最短路径\n",
    "    path = []\n",
    "    current_node = end\n",
    "    while previous_nodes[current_node] is not None:\n",
    "        path.insert(0, current_node)\n",
    "        current_node = previous_nodes[current_node]\n",
    "    if path:\n",
    "        path.insert(0, start)\n",
    "    \n",
    "    return distances[end], path\n",
    "# 示例图\n",
    "G = {\n",
    "    1: {2: 7, 3: 9, 6: 14},\n",
    "    2: {1: 7, 3: 10, 4: 15},\n",
    "    3: {1: 9, 2: 10, 4: 11, 6: 2},\n",
    "    4: {2: 15, 3: 11, 5: 6},\n",
    "    5: {4: 6, 6: 9},\n",
    "    6: {1: 14, 3: 2, 5: 9}\n",
    "}\n",
    "\n",
    "# 调用函数\n",
    "distance, path = dijkstra_path(G, 1, 5)\n",
    "print(f\"最短距离: {distance}\")\n",
    "print(f\"最短路径: {path}\")"
   ],
   "id": "97da53006d63e94c",
   "outputs": [
    {
     "name": "stdout",
     "output_type": "stream",
     "text": [
      "最短距离: 20\n",
      "最短路径: [1, 3, 6, 5]\n"
     ]
    }
   ],
   "execution_count": 8
  },
  {
   "metadata": {
    "ExecuteTime": {
     "end_time": "2024-11-02T10:37:27.696206Z",
     "start_time": "2024-11-02T10:37:27.669324Z"
    }
   },
   "cell_type": "code",
   "source": [
    "def bellman_ford(G, start):\n",
    "    # 初始化距离和前驱节点字典\n",
    "    distances = {node: float('inf') for node in G}\n",
    "    previous_nodes = {node: None for node in G}\n",
    "    distances[start] = 0\n",
    "    \n",
    "    # 获取所有边\n",
    "    edges = []\n",
    "    for node in G:\n",
    "        for neighbor, weight in G[node]:\n",
    "            edges.append((node, neighbor, weight))\n",
    "    \n",
    "    # 进行 V-1 次松弛操作\n",
    "    for _ in range(len(G) - 1):\n",
    "        for u, v, weight in edges:\n",
    "            if distances[u] + weight < distances[v]:\n",
    "                distances[v] = distances[u] + weight\n",
    "                previous_nodes[v] = u\n",
    "    \n",
    "    # 检查负权环\n",
    "    for u, v, weight in edges:\n",
    "        if distances[u] + weight < distances[v]:\n",
    "            raise ValueError(\"图中存在负权环\")\n",
    "    \n",
    "    return distances, previous_nodes\n",
    "\n",
    "def reconstruct_path(previous_nodes, start, end):\n",
    "    path = []\n",
    "    current_node = end\n",
    "    while current_node is not None:\n",
    "        path.insert(0, current_node)\n",
    "        current_node = previous_nodes[current_node]\n",
    "    return path\n",
    "\n",
    "# 示例图\n",
    "G = {\n",
    "    1: [(2, 7), (3, 9), (6, 14)],\n",
    "    2: [(1, 7), (3, 10), (4, 15)],\n",
    "    3: [(1, 9), (2, 10), (4, 11), (6, 2)],\n",
    "    4: [(2, 15), (3, 11), (5, 6)],\n",
    "    5: [(4, 6), (6, 9)],\n",
    "    6: [(1, 14), (3, 2), (5, 9)]\n",
    "}\n",
    "\n",
    "# 调用函数\n",
    "distances, previous_nodes = bellman_ford(G, 1)\n",
    "print(f\"最短距离: {distances}\")\n",
    "print(f\"前驱节点: {previous_nodes}\")\n",
    "\n",
    "# 重建从起点到终点的最短路径\n",
    "end = 5\n",
    "path = reconstruct_path(previous_nodes, 1, end)\n",
    "print(f\"从节点 1 到节点 {end} 的最短路径: {path}\")#Bellman-Ford算法"
   ],
   "id": "3d85aa40498b91b",
   "outputs": [
    {
     "name": "stdout",
     "output_type": "stream",
     "text": [
      "最短距离: {1: 0, 2: 7, 3: 9, 4: 20, 5: 20, 6: 11}\n",
      "前驱节点: {1: None, 2: 1, 3: 1, 4: 3, 5: 6, 6: 3}\n",
      "从节点 1 到节点 5 的最短路径: [1, 3, 6, 5]\n"
     ]
    }
   ],
   "execution_count": 9
  },
  {
   "metadata": {
    "ExecuteTime": {
     "end_time": "2024-10-29T11:56:15.168056Z",
     "start_time": "2024-10-29T11:56:14.565747Z"
    }
   },
   "cell_type": "code",
   "source": "",
   "id": "f3bc0d3570e7a9d2",
   "outputs": [
    {
     "ename": "NetworkXNoPath",
     "evalue": "No path to 100.",
     "output_type": "error",
     "traceback": [
      "\u001B[1;31m---------------------------------------------------------------------------\u001B[0m",
      "\u001B[1;31mKeyError\u001B[0m                                  Traceback (most recent call last)",
      "File \u001B[1;32mD:\\anaconda\\envs\\python\\Lib\\site-packages\\networkx\\algorithms\\shortest_paths\\weighted.py:765\u001B[0m, in \u001B[0;36mmulti_source_dijkstra\u001B[1;34m(G, sources, target, cutoff, weight)\u001B[0m\n\u001B[0;32m    764\u001B[0m \u001B[38;5;28;01mtry\u001B[39;00m:\n\u001B[1;32m--> 765\u001B[0m     \u001B[38;5;28;01mreturn\u001B[39;00m (\u001B[43mdist\u001B[49m\u001B[43m[\u001B[49m\u001B[43mtarget\u001B[49m\u001B[43m]\u001B[49m, paths[target])\n\u001B[0;32m    766\u001B[0m \u001B[38;5;28;01mexcept\u001B[39;00m \u001B[38;5;167;01mKeyError\u001B[39;00m \u001B[38;5;28;01mas\u001B[39;00m err:\n",
      "\u001B[1;31mKeyError\u001B[0m: 100",
      "\nThe above exception was the direct cause of the following exception:\n",
      "\u001B[1;31mNetworkXNoPath\u001B[0m                            Traceback (most recent call last)",
      "Cell \u001B[1;32mIn[9], line 50\u001B[0m\n\u001B[0;32m     48\u001B[0m i \u001B[38;5;241m=\u001B[39m \u001B[38;5;241m100\u001B[39m\n\u001B[0;32m     49\u001B[0m \u001B[38;5;28;01mwhile\u001B[39;00m i \u001B[38;5;241m<\u001B[39m\u001B[38;5;241m=\u001B[39m \u001B[38;5;241m11000\u001B[39m:\n\u001B[1;32m---> 50\u001B[0m     \u001B[43minit_graph\u001B[49m\u001B[43m(\u001B[49m\u001B[43mi\u001B[49m\u001B[43m)\u001B[49m\n\u001B[0;32m     51\u001B[0m     i \u001B[38;5;241m=\u001B[39m i \u001B[38;5;241m+\u001B[39m \u001B[38;5;241m2000\u001B[39m  \u001B[38;5;66;03m#规模每次增加2000\u001B[39;00m\n\u001B[0;32m     52\u001B[0m \u001B[38;5;28mprint\u001B[39m(time_prim)\n",
      "Cell \u001B[1;32mIn[9], line 38\u001B[0m, in \u001B[0;36minit_graph\u001B[1;34m(n)\u001B[0m\n\u001B[0;32m     36\u001B[0m         j \u001B[38;5;241m+\u001B[39m\u001B[38;5;241m=\u001B[39m \u001B[38;5;241m1\u001B[39m\n\u001B[0;32m     37\u001B[0m     i \u001B[38;5;241m+\u001B[39m\u001B[38;5;241m=\u001B[39m \u001B[38;5;241m1\u001B[39m\n\u001B[1;32m---> 38\u001B[0m time_p \u001B[38;5;241m=\u001B[39m \u001B[43mget_time_prim\u001B[49m\u001B[43m(\u001B[49m\u001B[43mG\u001B[49m\u001B[43m)\u001B[49m\n\u001B[0;32m     39\u001B[0m time_k \u001B[38;5;241m=\u001B[39m get_time_kruskal(G)\n\u001B[0;32m     40\u001B[0m time_prim[\u001B[38;5;28mstr\u001B[39m(n)] \u001B[38;5;241m=\u001B[39m time_p  \u001B[38;5;66;03m#键值对 存入字典\u001B[39;00m\n",
      "Cell \u001B[1;32mIn[9], line 6\u001B[0m, in \u001B[0;36mget_time_prim\u001B[1;34m(G)\u001B[0m\n\u001B[0;32m      4\u001B[0m \u001B[38;5;28;01mfor\u001B[39;00m i \u001B[38;5;129;01min\u001B[39;00m \u001B[38;5;28mrange\u001B[39m(\u001B[38;5;241m10\u001B[39m):\n\u001B[0;32m      5\u001B[0m     time0 \u001B[38;5;241m=\u001B[39m time()  \u001B[38;5;66;03m#当前时间\u001B[39;00m\n\u001B[1;32m----> 6\u001B[0m     \u001B[43mnx\u001B[49m\u001B[38;5;241;43m.\u001B[39;49m\u001B[43mdijkstra_path\u001B[49m\u001B[43m(\u001B[49m\u001B[43mG\u001B[49m\u001B[43m,\u001B[49m\u001B[38;5;241;43m10\u001B[39;49m\u001B[43m,\u001B[49m\u001B[38;5;241;43m100\u001B[39;49m\u001B[43m)\u001B[49m\n\u001B[0;32m      7\u001B[0m     t\u001B[38;5;241m.\u001B[39mappend(time() \u001B[38;5;241m-\u001B[39m time0)  \u001B[38;5;66;03m#计算时间差\u001B[39;00m\n\u001B[0;32m      8\u001B[0m \u001B[38;5;28;01mreturn\u001B[39;00m np\u001B[38;5;241m.\u001B[39mmean(t)\n",
      "File \u001B[1;32m<class 'networkx.utils.decorators.argmap'> compilation 20:3\u001B[0m, in \u001B[0;36margmap_dijkstra_path_17\u001B[1;34m(G, source, target, weight, backend, **backend_kwargs)\u001B[0m\n\u001B[0;32m      1\u001B[0m \u001B[38;5;28;01mimport\u001B[39;00m \u001B[38;5;21;01mbz2\u001B[39;00m\n\u001B[0;32m      2\u001B[0m \u001B[38;5;28;01mimport\u001B[39;00m \u001B[38;5;21;01mcollections\u001B[39;00m\n\u001B[1;32m----> 3\u001B[0m \u001B[38;5;28;01mimport\u001B[39;00m \u001B[38;5;21;01mgzip\u001B[39;00m\n\u001B[0;32m      4\u001B[0m \u001B[38;5;28;01mimport\u001B[39;00m \u001B[38;5;21;01minspect\u001B[39;00m\n\u001B[0;32m      5\u001B[0m \u001B[38;5;28;01mimport\u001B[39;00m \u001B[38;5;21;01mitertools\u001B[39;00m\n",
      "File \u001B[1;32mD:\\anaconda\\envs\\python\\Lib\\site-packages\\networkx\\utils\\backends.py:967\u001B[0m, in \u001B[0;36m_dispatchable.__call__\u001B[1;34m(self, backend, *args, **kwargs)\u001B[0m\n\u001B[0;32m    965\u001B[0m     \u001B[38;5;28;01mif\u001B[39;00m backend \u001B[38;5;129;01mis\u001B[39;00m \u001B[38;5;129;01mnot\u001B[39;00m \u001B[38;5;28;01mNone\u001B[39;00m \u001B[38;5;129;01mand\u001B[39;00m backend \u001B[38;5;241m!=\u001B[39m \u001B[38;5;124m\"\u001B[39m\u001B[38;5;124mnetworkx\u001B[39m\u001B[38;5;124m\"\u001B[39m:\n\u001B[0;32m    966\u001B[0m         \u001B[38;5;28;01mraise\u001B[39;00m \u001B[38;5;167;01mImportError\u001B[39;00m(\u001B[38;5;124mf\u001B[39m\u001B[38;5;124m\"\u001B[39m\u001B[38;5;124m'\u001B[39m\u001B[38;5;132;01m{\u001B[39;00mbackend\u001B[38;5;132;01m}\u001B[39;00m\u001B[38;5;124m'\u001B[39m\u001B[38;5;124m backend is not installed\u001B[39m\u001B[38;5;124m\"\u001B[39m)\n\u001B[1;32m--> 967\u001B[0m     \u001B[38;5;28;01mreturn\u001B[39;00m \u001B[38;5;28;43mself\u001B[39;49m\u001B[38;5;241;43m.\u001B[39;49m\u001B[43morig_func\u001B[49m\u001B[43m(\u001B[49m\u001B[38;5;241;43m*\u001B[39;49m\u001B[43margs\u001B[49m\u001B[43m,\u001B[49m\u001B[43m \u001B[49m\u001B[38;5;241;43m*\u001B[39;49m\u001B[38;5;241;43m*\u001B[39;49m\u001B[43mkwargs\u001B[49m\u001B[43m)\u001B[49m\n\u001B[0;32m    969\u001B[0m \u001B[38;5;66;03m# Use `backend_name` in this function instead of `backend`.\u001B[39;00m\n\u001B[0;32m    970\u001B[0m \u001B[38;5;66;03m# This is purely for aesthetics and to make it easier to search for this\u001B[39;00m\n\u001B[0;32m    971\u001B[0m \u001B[38;5;66;03m# variable since \"backend\" is used in many comments and log/error messages.\u001B[39;00m\n\u001B[0;32m    972\u001B[0m backend_name \u001B[38;5;241m=\u001B[39m backend\n",
      "File \u001B[1;32mD:\\anaconda\\envs\\python\\Lib\\site-packages\\networkx\\algorithms\\shortest_paths\\weighted.py:171\u001B[0m, in \u001B[0;36mdijkstra_path\u001B[1;34m(G, source, target, weight)\u001B[0m\n\u001B[0;32m     81\u001B[0m \u001B[38;5;129m@nx\u001B[39m\u001B[38;5;241m.\u001B[39m_dispatchable(edge_attrs\u001B[38;5;241m=\u001B[39m\u001B[38;5;124m\"\u001B[39m\u001B[38;5;124mweight\u001B[39m\u001B[38;5;124m\"\u001B[39m)\n\u001B[0;32m     82\u001B[0m \u001B[38;5;28;01mdef\u001B[39;00m \u001B[38;5;21mdijkstra_path\u001B[39m(G, source, target, weight\u001B[38;5;241m=\u001B[39m\u001B[38;5;124m\"\u001B[39m\u001B[38;5;124mweight\u001B[39m\u001B[38;5;124m\"\u001B[39m):\n\u001B[0;32m     83\u001B[0m \u001B[38;5;250m    \u001B[39m\u001B[38;5;124;03m\"\"\"Returns the shortest weighted path from source to target in G.\u001B[39;00m\n\u001B[0;32m     84\u001B[0m \n\u001B[0;32m     85\u001B[0m \u001B[38;5;124;03m    Uses Dijkstra's Method to compute the shortest weighted path\u001B[39;00m\n\u001B[1;32m   (...)\u001B[0m\n\u001B[0;32m    169\u001B[0m \u001B[38;5;124;03m    single_source_dijkstra\u001B[39;00m\n\u001B[0;32m    170\u001B[0m \u001B[38;5;124;03m    \"\"\"\u001B[39;00m\n\u001B[1;32m--> 171\u001B[0m     (length, path) \u001B[38;5;241m=\u001B[39m \u001B[43msingle_source_dijkstra\u001B[49m\u001B[43m(\u001B[49m\u001B[43mG\u001B[49m\u001B[43m,\u001B[49m\u001B[43m \u001B[49m\u001B[43msource\u001B[49m\u001B[43m,\u001B[49m\u001B[43m \u001B[49m\u001B[43mtarget\u001B[49m\u001B[38;5;241;43m=\u001B[39;49m\u001B[43mtarget\u001B[49m\u001B[43m,\u001B[49m\u001B[43m \u001B[49m\u001B[43mweight\u001B[49m\u001B[38;5;241;43m=\u001B[39;49m\u001B[43mweight\u001B[49m\u001B[43m)\u001B[49m\n\u001B[0;32m    172\u001B[0m     \u001B[38;5;28;01mreturn\u001B[39;00m path\n",
      "File \u001B[1;32m<class 'networkx.utils.decorators.argmap'> compilation 24:3\u001B[0m, in \u001B[0;36margmap_single_source_dijkstra_21\u001B[1;34m(G, source, target, cutoff, weight, backend, **backend_kwargs)\u001B[0m\n\u001B[0;32m      1\u001B[0m \u001B[38;5;28;01mimport\u001B[39;00m \u001B[38;5;21;01mbz2\u001B[39;00m\n\u001B[0;32m      2\u001B[0m \u001B[38;5;28;01mimport\u001B[39;00m \u001B[38;5;21;01mcollections\u001B[39;00m\n\u001B[1;32m----> 3\u001B[0m \u001B[38;5;28;01mimport\u001B[39;00m \u001B[38;5;21;01mgzip\u001B[39;00m\n\u001B[0;32m      4\u001B[0m \u001B[38;5;28;01mimport\u001B[39;00m \u001B[38;5;21;01minspect\u001B[39;00m\n\u001B[0;32m      5\u001B[0m \u001B[38;5;28;01mimport\u001B[39;00m \u001B[38;5;21;01mitertools\u001B[39;00m\n",
      "File \u001B[1;32mD:\\anaconda\\envs\\python\\Lib\\site-packages\\networkx\\utils\\backends.py:967\u001B[0m, in \u001B[0;36m_dispatchable.__call__\u001B[1;34m(self, backend, *args, **kwargs)\u001B[0m\n\u001B[0;32m    965\u001B[0m     \u001B[38;5;28;01mif\u001B[39;00m backend \u001B[38;5;129;01mis\u001B[39;00m \u001B[38;5;129;01mnot\u001B[39;00m \u001B[38;5;28;01mNone\u001B[39;00m \u001B[38;5;129;01mand\u001B[39;00m backend \u001B[38;5;241m!=\u001B[39m \u001B[38;5;124m\"\u001B[39m\u001B[38;5;124mnetworkx\u001B[39m\u001B[38;5;124m\"\u001B[39m:\n\u001B[0;32m    966\u001B[0m         \u001B[38;5;28;01mraise\u001B[39;00m \u001B[38;5;167;01mImportError\u001B[39;00m(\u001B[38;5;124mf\u001B[39m\u001B[38;5;124m\"\u001B[39m\u001B[38;5;124m'\u001B[39m\u001B[38;5;132;01m{\u001B[39;00mbackend\u001B[38;5;132;01m}\u001B[39;00m\u001B[38;5;124m'\u001B[39m\u001B[38;5;124m backend is not installed\u001B[39m\u001B[38;5;124m\"\u001B[39m)\n\u001B[1;32m--> 967\u001B[0m     \u001B[38;5;28;01mreturn\u001B[39;00m \u001B[38;5;28;43mself\u001B[39;49m\u001B[38;5;241;43m.\u001B[39;49m\u001B[43morig_func\u001B[49m\u001B[43m(\u001B[49m\u001B[38;5;241;43m*\u001B[39;49m\u001B[43margs\u001B[49m\u001B[43m,\u001B[49m\u001B[43m \u001B[49m\u001B[38;5;241;43m*\u001B[39;49m\u001B[38;5;241;43m*\u001B[39;49m\u001B[43mkwargs\u001B[49m\u001B[43m)\u001B[49m\n\u001B[0;32m    969\u001B[0m \u001B[38;5;66;03m# Use `backend_name` in this function instead of `backend`.\u001B[39;00m\n\u001B[0;32m    970\u001B[0m \u001B[38;5;66;03m# This is purely for aesthetics and to make it easier to search for this\u001B[39;00m\n\u001B[0;32m    971\u001B[0m \u001B[38;5;66;03m# variable since \"backend\" is used in many comments and log/error messages.\u001B[39;00m\n\u001B[0;32m    972\u001B[0m backend_name \u001B[38;5;241m=\u001B[39m backend\n",
      "File \u001B[1;32mD:\\anaconda\\envs\\python\\Lib\\site-packages\\networkx\\algorithms\\shortest_paths\\weighted.py:489\u001B[0m, in \u001B[0;36msingle_source_dijkstra\u001B[1;34m(G, source, target, cutoff, weight)\u001B[0m\n\u001B[0;32m    392\u001B[0m \u001B[38;5;129m@nx\u001B[39m\u001B[38;5;241m.\u001B[39m_dispatchable(edge_attrs\u001B[38;5;241m=\u001B[39m\u001B[38;5;124m\"\u001B[39m\u001B[38;5;124mweight\u001B[39m\u001B[38;5;124m\"\u001B[39m)\n\u001B[0;32m    393\u001B[0m \u001B[38;5;28;01mdef\u001B[39;00m \u001B[38;5;21msingle_source_dijkstra\u001B[39m(G, source, target\u001B[38;5;241m=\u001B[39m\u001B[38;5;28;01mNone\u001B[39;00m, cutoff\u001B[38;5;241m=\u001B[39m\u001B[38;5;28;01mNone\u001B[39;00m, weight\u001B[38;5;241m=\u001B[39m\u001B[38;5;124m\"\u001B[39m\u001B[38;5;124mweight\u001B[39m\u001B[38;5;124m\"\u001B[39m):\n\u001B[0;32m    394\u001B[0m \u001B[38;5;250m    \u001B[39m\u001B[38;5;124;03m\"\"\"Find shortest weighted paths and lengths from a source node.\u001B[39;00m\n\u001B[0;32m    395\u001B[0m \n\u001B[0;32m    396\u001B[0m \u001B[38;5;124;03m    Compute the shortest path length between source and all other\u001B[39;00m\n\u001B[1;32m   (...)\u001B[0m\n\u001B[0;32m    487\u001B[0m \u001B[38;5;124;03m    single_source_bellman_ford\u001B[39;00m\n\u001B[0;32m    488\u001B[0m \u001B[38;5;124;03m    \"\"\"\u001B[39;00m\n\u001B[1;32m--> 489\u001B[0m     \u001B[38;5;28;01mreturn\u001B[39;00m \u001B[43mmulti_source_dijkstra\u001B[49m\u001B[43m(\u001B[49m\n\u001B[0;32m    490\u001B[0m \u001B[43m        \u001B[49m\u001B[43mG\u001B[49m\u001B[43m,\u001B[49m\u001B[43m \u001B[49m\u001B[43m{\u001B[49m\u001B[43msource\u001B[49m\u001B[43m}\u001B[49m\u001B[43m,\u001B[49m\u001B[43m \u001B[49m\u001B[43mcutoff\u001B[49m\u001B[38;5;241;43m=\u001B[39;49m\u001B[43mcutoff\u001B[49m\u001B[43m,\u001B[49m\u001B[43m \u001B[49m\u001B[43mtarget\u001B[49m\u001B[38;5;241;43m=\u001B[39;49m\u001B[43mtarget\u001B[49m\u001B[43m,\u001B[49m\u001B[43m \u001B[49m\u001B[43mweight\u001B[49m\u001B[38;5;241;43m=\u001B[39;49m\u001B[43mweight\u001B[49m\n\u001B[0;32m    491\u001B[0m \u001B[43m    \u001B[49m\u001B[43m)\u001B[49m\n",
      "File \u001B[1;32m<class 'networkx.utils.decorators.argmap'> compilation 28:3\u001B[0m, in \u001B[0;36margmap_multi_source_dijkstra_25\u001B[1;34m(G, sources, target, cutoff, weight, backend, **backend_kwargs)\u001B[0m\n\u001B[0;32m      1\u001B[0m \u001B[38;5;28;01mimport\u001B[39;00m \u001B[38;5;21;01mbz2\u001B[39;00m\n\u001B[0;32m      2\u001B[0m \u001B[38;5;28;01mimport\u001B[39;00m \u001B[38;5;21;01mcollections\u001B[39;00m\n\u001B[1;32m----> 3\u001B[0m \u001B[38;5;28;01mimport\u001B[39;00m \u001B[38;5;21;01mgzip\u001B[39;00m\n\u001B[0;32m      4\u001B[0m \u001B[38;5;28;01mimport\u001B[39;00m \u001B[38;5;21;01minspect\u001B[39;00m\n\u001B[0;32m      5\u001B[0m \u001B[38;5;28;01mimport\u001B[39;00m \u001B[38;5;21;01mitertools\u001B[39;00m\n",
      "File \u001B[1;32mD:\\anaconda\\envs\\python\\Lib\\site-packages\\networkx\\utils\\backends.py:967\u001B[0m, in \u001B[0;36m_dispatchable.__call__\u001B[1;34m(self, backend, *args, **kwargs)\u001B[0m\n\u001B[0;32m    965\u001B[0m     \u001B[38;5;28;01mif\u001B[39;00m backend \u001B[38;5;129;01mis\u001B[39;00m \u001B[38;5;129;01mnot\u001B[39;00m \u001B[38;5;28;01mNone\u001B[39;00m \u001B[38;5;129;01mand\u001B[39;00m backend \u001B[38;5;241m!=\u001B[39m \u001B[38;5;124m\"\u001B[39m\u001B[38;5;124mnetworkx\u001B[39m\u001B[38;5;124m\"\u001B[39m:\n\u001B[0;32m    966\u001B[0m         \u001B[38;5;28;01mraise\u001B[39;00m \u001B[38;5;167;01mImportError\u001B[39;00m(\u001B[38;5;124mf\u001B[39m\u001B[38;5;124m\"\u001B[39m\u001B[38;5;124m'\u001B[39m\u001B[38;5;132;01m{\u001B[39;00mbackend\u001B[38;5;132;01m}\u001B[39;00m\u001B[38;5;124m'\u001B[39m\u001B[38;5;124m backend is not installed\u001B[39m\u001B[38;5;124m\"\u001B[39m)\n\u001B[1;32m--> 967\u001B[0m     \u001B[38;5;28;01mreturn\u001B[39;00m \u001B[38;5;28;43mself\u001B[39;49m\u001B[38;5;241;43m.\u001B[39;49m\u001B[43morig_func\u001B[49m\u001B[43m(\u001B[49m\u001B[38;5;241;43m*\u001B[39;49m\u001B[43margs\u001B[49m\u001B[43m,\u001B[49m\u001B[43m \u001B[49m\u001B[38;5;241;43m*\u001B[39;49m\u001B[38;5;241;43m*\u001B[39;49m\u001B[43mkwargs\u001B[49m\u001B[43m)\u001B[49m\n\u001B[0;32m    969\u001B[0m \u001B[38;5;66;03m# Use `backend_name` in this function instead of `backend`.\u001B[39;00m\n\u001B[0;32m    970\u001B[0m \u001B[38;5;66;03m# This is purely for aesthetics and to make it easier to search for this\u001B[39;00m\n\u001B[0;32m    971\u001B[0m \u001B[38;5;66;03m# variable since \"backend\" is used in many comments and log/error messages.\u001B[39;00m\n\u001B[0;32m    972\u001B[0m backend_name \u001B[38;5;241m=\u001B[39m backend\n",
      "File \u001B[1;32mD:\\anaconda\\envs\\python\\Lib\\site-packages\\networkx\\algorithms\\shortest_paths\\weighted.py:767\u001B[0m, in \u001B[0;36mmulti_source_dijkstra\u001B[1;34m(G, sources, target, cutoff, weight)\u001B[0m\n\u001B[0;32m    765\u001B[0m     \u001B[38;5;28;01mreturn\u001B[39;00m (dist[target], paths[target])\n\u001B[0;32m    766\u001B[0m \u001B[38;5;28;01mexcept\u001B[39;00m \u001B[38;5;167;01mKeyError\u001B[39;00m \u001B[38;5;28;01mas\u001B[39;00m err:\n\u001B[1;32m--> 767\u001B[0m     \u001B[38;5;28;01mraise\u001B[39;00m nx\u001B[38;5;241m.\u001B[39mNetworkXNoPath(\u001B[38;5;124mf\u001B[39m\u001B[38;5;124m\"\u001B[39m\u001B[38;5;124mNo path to \u001B[39m\u001B[38;5;132;01m{\u001B[39;00mtarget\u001B[38;5;132;01m}\u001B[39;00m\u001B[38;5;124m.\u001B[39m\u001B[38;5;124m\"\u001B[39m) \u001B[38;5;28;01mfrom\u001B[39;00m \u001B[38;5;21;01merr\u001B[39;00m\n",
      "\u001B[1;31mNetworkXNoPath\u001B[0m: No path to 100."
     ]
    }
   ],
   "execution_count": 9
  },
  {
   "metadata": {},
   "cell_type": "code",
   "outputs": [],
   "execution_count": null,
   "source": "",
   "id": "4acd54c996197a0b"
  }
 ],
 "metadata": {
  "kernelspec": {
   "display_name": "Python 3",
   "language": "python",
   "name": "python3"
  },
  "language_info": {
   "codemirror_mode": {
    "name": "ipython",
    "version": 2
   },
   "file_extension": ".py",
   "mimetype": "text/x-python",
   "name": "python",
   "nbconvert_exporter": "python",
   "pygments_lexer": "ipython2",
   "version": "2.7.6"
  }
 },
 "nbformat": 4,
 "nbformat_minor": 5
}
